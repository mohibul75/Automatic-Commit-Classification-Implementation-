{
  "cells": [
    {
      "cell_type": "code",
      "execution_count": null,
      "metadata": {
        "colab": {
          "background_save": true
        },
        "id": "aaacOF0X6MWN"
      },
      "outputs": [],
      "source": [
        "from google.colab import auth\n",
        "from sklearn.model_selection import train_test_split\n",
        "from sklearn.ensemble import RandomForestClassifier\n",
        "from sklearn.model_selection import KFold\n",
        "from sklearn.metrics import *\n",
        "import numpy as np\n",
        "import pickle\n",
        "\n",
        "auth.authenticate_user()\n",
        "\n",
        "import gspread\n",
        "from google.auth import default\n",
        "creds, _ = default()\n",
        "\n",
        "gc = gspread.authorize(creds)\n",
        "\n",
        "worksheet = gc.open('Commit Classification Dataset').sheet1\n",
        "\n",
        "# get_all_values gives a list of rows.\n",
        "rows = worksheet.get_all_values()\n",
        "#print(rows)\n",
        "\n",
        "# Convert to a DataFrame and render.\n",
        "import pandas as pd\n",
        "df = pd.DataFrame.from_records(rows)\n",
        "df = df.iloc[1:, 3 : ]"
      ]
    },
    {
      "cell_type": "markdown",
      "metadata": {
        "id": "CsamqF9BhfXt"
      },
      "source": [
        "# New Section"
      ]
    },
    {
      "cell_type": "code",
      "execution_count": null,
      "metadata": {
        "colab": {
          "background_save": true
        },
        "id": "AIziYsFQ6c5d"
      },
      "outputs": [],
      "source": [
        "data_model1 = df.drop(df.iloc[:, 1:49],axis = 1).to_numpy()\n",
        "\n",
        "input_data_keyword = data_model1[:,1:]\n",
        "input_data_keyword = pd.DataFrame(input_data_keyword).apply(pd.to_numeric).to_numpy()\n",
        "output_data_keyword = data_model1[:,:1]\n",
        "\n",
        "data_model2 = df.to_numpy()\n",
        "\n",
        "input_data_combined = data_model2[:,1:]\n",
        "input_data_combined = pd.DataFrame(input_data_combined).apply(pd.to_numeric).to_numpy()\n",
        "output_data_combined = data_model2[:,:1]\n"
      ]
    },
    {
      "cell_type": "code",
      "execution_count": null,
      "metadata": {
        "colab": {
          "base_uri": "https://localhost:8080/"
        },
        "id": "vcV1ZqLH6nUA",
        "outputId": "e4f41f09-34e3-4a53-f101-132019f57091"
      },
      "outputs": [
        {
          "name": "stderr",
          "output_type": "stream",
          "text": [
            "/usr/local/lib/python3.7/dist-packages/ipykernel_launcher.py:16: DataConversionWarning: A column-vector y was passed when a 1d array was expected. Please change the shape of y to (n_samples,), for example using ravel().\n",
            "  app.launch_new_instance()\n",
            "/usr/local/lib/python3.7/dist-packages/ipykernel_launcher.py:16: DataConversionWarning: A column-vector y was passed when a 1d array was expected. Please change the shape of y to (n_samples,), for example using ravel().\n",
            "  app.launch_new_instance()\n",
            "/usr/local/lib/python3.7/dist-packages/ipykernel_launcher.py:16: DataConversionWarning: A column-vector y was passed when a 1d array was expected. Please change the shape of y to (n_samples,), for example using ravel().\n",
            "  app.launch_new_instance()\n",
            "/usr/local/lib/python3.7/dist-packages/ipykernel_launcher.py:16: DataConversionWarning: A column-vector y was passed when a 1d array was expected. Please change the shape of y to (n_samples,), for example using ravel().\n",
            "  app.launch_new_instance()\n",
            "/usr/local/lib/python3.7/dist-packages/ipykernel_launcher.py:16: DataConversionWarning: A column-vector y was passed when a 1d array was expected. Please change the shape of y to (n_samples,), for example using ravel().\n",
            "  app.launch_new_instance()\n",
            "/usr/local/lib/python3.7/dist-packages/ipykernel_launcher.py:16: DataConversionWarning: A column-vector y was passed when a 1d array was expected. Please change the shape of y to (n_samples,), for example using ravel().\n",
            "  app.launch_new_instance()\n",
            "/usr/local/lib/python3.7/dist-packages/ipykernel_launcher.py:16: DataConversionWarning: A column-vector y was passed when a 1d array was expected. Please change the shape of y to (n_samples,), for example using ravel().\n",
            "  app.launch_new_instance()\n",
            "/usr/local/lib/python3.7/dist-packages/ipykernel_launcher.py:16: DataConversionWarning: A column-vector y was passed when a 1d array was expected. Please change the shape of y to (n_samples,), for example using ravel().\n",
            "  app.launch_new_instance()\n",
            "/usr/local/lib/python3.7/dist-packages/ipykernel_launcher.py:16: DataConversionWarning: A column-vector y was passed when a 1d array was expected. Please change the shape of y to (n_samples,), for example using ravel().\n",
            "  app.launch_new_instance()\n",
            "/usr/local/lib/python3.7/dist-packages/ipykernel_launcher.py:16: DataConversionWarning: A column-vector y was passed when a 1d array was expected. Please change the shape of y to (n_samples,), for example using ravel().\n",
            "  app.launch_new_instance()\n",
            "/usr/local/lib/python3.7/dist-packages/ipykernel_launcher.py:24: DataConversionWarning: A column-vector y was passed when a 1d array was expected. Please change the shape of y to (n_samples,), for example using ravel().\n",
            "/usr/local/lib/python3.7/dist-packages/ipykernel_launcher.py:24: DataConversionWarning: A column-vector y was passed when a 1d array was expected. Please change the shape of y to (n_samples,), for example using ravel().\n",
            "/usr/local/lib/python3.7/dist-packages/ipykernel_launcher.py:24: DataConversionWarning: A column-vector y was passed when a 1d array was expected. Please change the shape of y to (n_samples,), for example using ravel().\n",
            "/usr/local/lib/python3.7/dist-packages/ipykernel_launcher.py:24: DataConversionWarning: A column-vector y was passed when a 1d array was expected. Please change the shape of y to (n_samples,), for example using ravel().\n",
            "/usr/local/lib/python3.7/dist-packages/ipykernel_launcher.py:24: DataConversionWarning: A column-vector y was passed when a 1d array was expected. Please change the shape of y to (n_samples,), for example using ravel().\n",
            "/usr/local/lib/python3.7/dist-packages/ipykernel_launcher.py:24: DataConversionWarning: A column-vector y was passed when a 1d array was expected. Please change the shape of y to (n_samples,), for example using ravel().\n",
            "/usr/local/lib/python3.7/dist-packages/ipykernel_launcher.py:24: DataConversionWarning: A column-vector y was passed when a 1d array was expected. Please change the shape of y to (n_samples,), for example using ravel().\n",
            "/usr/local/lib/python3.7/dist-packages/ipykernel_launcher.py:24: DataConversionWarning: A column-vector y was passed when a 1d array was expected. Please change the shape of y to (n_samples,), for example using ravel().\n",
            "/usr/local/lib/python3.7/dist-packages/ipykernel_launcher.py:24: DataConversionWarning: A column-vector y was passed when a 1d array was expected. Please change the shape of y to (n_samples,), for example using ravel().\n",
            "/usr/local/lib/python3.7/dist-packages/ipykernel_launcher.py:24: DataConversionWarning: A column-vector y was passed when a 1d array was expected. Please change the shape of y to (n_samples,), for example using ravel().\n"
          ]
        }
      ],
      "source": [
        "x_train_keyword,x_test_keyword,y_train_keyword,y_test_keyword=train_test_split(input_data_keyword,output_data_keyword,test_size=0.15)\n",
        "x_train_combined,x_test_combined,y_train_combined,y_test_combined=train_test_split(input_data_combined,output_data_combined,test_size=0.15)\n",
        "\n",
        "x_test_combined[np.isnan(x_test_combined)] = np.nanmean(x_test_combined)\n",
        "\n",
        "kfold = KFold(n_splits=10, shuffle=True, random_state=1)\n",
        "\n",
        "clfKeyWord = RandomForestClassifier(n_estimators=10, max_depth=6, n_jobs=1, verbose=0)\n",
        "clfCombined = RandomForestClassifier(n_estimators=10, max_depth=6, n_jobs=1, verbose=0)\n",
        "\n",
        "for train_index, test_index in kfold.split(x_train_keyword):\n",
        "  x_train, x_test = x_train_keyword[train_index], x_train_keyword[test_index]\n",
        "  y_train, y_test = y_train_keyword[train_index], y_train_keyword[test_index]\n",
        "  x_train[np.isnan(x_train)]= np.nanmean(x_train)\n",
        "  x_test[np.isnan(x_test)]= np.nanmean(x_test)\n",
        "  clfKeyWord.fit(x_train, y_train)\n",
        "  keyword_model = pickle.dumps(clfKeyWord)\n",
        "\n",
        "for train_index, test_index in kfold.split(x_train_combined):\n",
        "  x_train, x_test = x_train_combined[train_index], x_train_combined[test_index]\n",
        "  y_train, y_test = y_train_combined[train_index], y_train_combined[test_index]\n",
        "  x_train[np.isnan(x_train)]= np.nanmean(x_train)\n",
        "  x_test[np.isnan(x_test)]= np.nanmean(x_test)\n",
        "  clfCombined.fit(x_train, y_train)\n",
        "  combined_model = pickle.dumps(clfCombined)"
      ]
    },
    {
      "cell_type": "code",
      "execution_count": null,
      "metadata": {
        "colab": {
          "base_uri": "https://localhost:8080/"
        },
        "id": "UOd8KD8W6s6L",
        "outputId": "a1f89104-28ce-46f8-eefe-4c119c6944de"
      },
      "outputs": [
        {
          "name": "stdout",
          "output_type": "stream",
          "text": [
            "Accuracy = 71.67630057803468%\n",
            "\n",
            "\n",
            "Cohen Kappa Score = 56.164029372220504%\n",
            "\n",
            "              precision    recall  f1-score   support\n",
            "\n",
            "                   1.00      1.00      1.00         3\n",
            "           a       0.76      0.69      0.72        36\n",
            "           c       0.68      0.85      0.75        72\n",
            "           p       0.74      0.56      0.64        62\n",
            "\n",
            "    accuracy                           0.72       173\n",
            "   macro avg       0.80      0.78      0.78       173\n",
            "weighted avg       0.72      0.72      0.71       173\n",
            "\n"
          ]
        }
      ],
      "source": [
        "loaded_model_combined = pickle.loads(combined_model)\n",
        "loaded_model_keyword = pickle.loads(keyword_model)\n",
        "\n",
        "y_predict = []\n",
        "for x in x_test_combined:\n",
        "  if ~np.all(x[48:] == 0, axis=0) : \n",
        "    y_predict.append(loaded_model_keyword.predict([x[48:]]))\n",
        "  else :\n",
        "    y_predict.append(loaded_model_combined.predict([x]))\n",
        "\n",
        "print(\"Accuracy = \" + str(accuracy_score(y_test_combined, y_predict)*100)+\"%\\n\")\n",
        "print(\"\\nCohen Kappa Score = \" + str(cohen_kappa_score(y_test_combined, y_predict)*100)+\"%\\n\")\n",
        "print(classification_report(y_test_combined,y_predict))"
      ]
    }
  ],
  "metadata": {
    "colab": {
      "collapsed_sections": [],
      "name": "Commit Classification.ipynb",
      "provenance": []
    },
    "kernelspec": {
      "display_name": "Python 3",
      "name": "python3"
    },
    "language_info": {
      "name": "python"
    }
  },
  "nbformat": 4,
  "nbformat_minor": 0
}